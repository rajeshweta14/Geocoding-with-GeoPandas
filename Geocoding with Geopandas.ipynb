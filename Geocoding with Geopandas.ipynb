{
 "cells": [
  {
   "cell_type": "markdown",
   "metadata": {},
   "source": [
    "The main aim of this project it to use the new library called geopandas. Using this library we will be able to produce the location information for the most visted places on wikipedia and then plot all the locations on the map."
   ]
  },
  {
   "cell_type": "code",
   "execution_count": 1,
   "metadata": {},
   "outputs": [],
   "source": [
    "import pandas as pd\n",
    "from geopandas.tools import geocode"
   ]
  },
  {
   "cell_type": "markdown",
   "metadata": {},
   "source": [
    "importing data from the wikipedia link."
   ]
  },
  {
   "cell_type": "code",
   "execution_count": 2,
   "metadata": {},
   "outputs": [],
   "source": [
    "data = pd.read_html('https://en.wikipedia.org/wiki/List_of_most_visited_palaces_and_monuments')"
   ]
  },
  {
   "cell_type": "markdown",
   "metadata": {},
   "source": [
    "check the data to see what have we captured"
   ]
  },
  {
   "cell_type": "code",
   "execution_count": 3,
   "metadata": {},
   "outputs": [
    {
     "data": {
      "text/plain": [
       "[   National monuments by visitors per year  \\\n",
       "                                        No.   \n",
       " 0                                        1   \n",
       " 1                                        2   \n",
       " 2                                        3   \n",
       " 3                                        4   \n",
       " 4                                        5   \n",
       " 5                                        6   \n",
       " 6                                        7   \n",
       " 7                                        8   \n",
       " 8                                        9   \n",
       " 9                                       10   \n",
       " 10                                      11   \n",
       " 11                                      12   \n",
       " 12                                      13   \n",
       " 13                                      14   \n",
       " 14                                      15   \n",
       " 15                                      16   \n",
       " 16                                      17   \n",
       " 17                                      18   \n",
       " 18                                      19   \n",
       " 19                                      20   \n",
       " 20                                      21   \n",
       " 21                                      22   \n",
       " 22                                      23   \n",
       " 23                                      24   \n",
       " 24                                      25   \n",
       " 25                                      26   \n",
       " 26                                      27   \n",
       " 27                                      28   \n",
       " 28                                      29   \n",
       " 29                                      30   \n",
       " 30                                      31   \n",
       " 31                                      32   \n",
       " 32                                      33   \n",
       " 33                                      34   \n",
       " 34                                      35   \n",
       " 35                                      36   \n",
       " 36                                      37   \n",
       " 37                                      38   \n",
       " 38                                      39   \n",
       " 39                                      40   \n",
       " 40                                      41   \n",
       " 41                                      42   \n",
       " 42                                      43   \n",
       " 43                                      44   \n",
       " \n",
       "                                                                           \\\n",
       "                                                  Name Country flag, city   \n",
       " 0                                      Forbidden City            Beijing   \n",
       " 1                                St. Peter's Basilica       Vatican City   \n",
       " 2                                Palace of Versailles         Versailles   \n",
       " 3                                    Lincoln Memorial   Washington, D.C.   \n",
       " 4               Colosseum-Forum-Palatine Hill Circuit               Rome   \n",
       " 5                                           Parthenon             Athens   \n",
       " 6                                           Taj Mahal               Agra   \n",
       " 7                                        Eiffel Tower              Paris   \n",
       " 8                                   Cologne Cathedral            Cologne   \n",
       " 9                                     Peterhof Palace   Saint Petersburg   \n",
       " 10                          Vietnam Veterans Memorial   Washington, D.C.   \n",
       " 11                              World War II Memorial   Washington, D.C.   \n",
       " 12              Independence National Historical Park       Philadelphia   \n",
       " 13                                    Sagrada familia          Barcelona   \n",
       " 14                Statue of Liberty National Monument      New York City   \n",
       " 15                                        Teotihuacán        Teotihuacán   \n",
       " 16                        National Palace Museum[iii]             Taipei   \n",
       " 17                                      Mysore Palace             Mysore   \n",
       " 18                 Tsarskoe Selo State Museum-Reserve   Saint Petersburg   \n",
       " 19                                            Pompeii             Naples   \n",
       " 20                                      Musée d'Orsay              Paris   \n",
       " 21                                     Wilanów Palace             Warsaw   \n",
       " 22                                  Schönbrunn Palace             Vienna   \n",
       " 23                                      Kazan Kremlin              Kazan   \n",
       " 24                                    Tower of London             London   \n",
       " 25                                           Alhambra            Granada   \n",
       " 26                                       Chichén Itzá            Yucatán   \n",
       " 27                                 Chapultepec Castle        Mexico City   \n",
       " 28                 Ciudad de las Artes y las Ciencias           Valencia   \n",
       " 29                                    Statue of Unity           Kevadiya   \n",
       " 30                                     Moscow Kremlin             Moscow   \n",
       " 31          Battle of Stalingrad State Museum-Reserve          Volgograd   \n",
       " 32                                              Tulum       Quintana Roo   \n",
       " 33                                    Łazienki Palace             Warsaw   \n",
       " 34             Auschwitz-Birkenau Memorial and Museum           Oświęcim   \n",
       " 35                                     Topkapı Palace           Istanbul   \n",
       " 36                                   Edinburgh Castle          Edinburgh   \n",
       " 37                        Mosque–Cathedral of Córdoba            Córdoba   \n",
       " 38                           Royal Alcázar of Seville            Seville   \n",
       " 39                                    Arc de Triomphe              Paris   \n",
       " 40                             Royal Palace of Madrid             Madrid   \n",
       " 41                              Neuschwanstein Castle     Hohenschwangau   \n",
       " 42                                       Machu Picchu              Cusco   \n",
       " 43  Castillo San Felipe del Morro (Old San Juan Hi...           San Juan   \n",
       " \n",
       "                                           \n",
       "    Visitors per year Year reported Notes  \n",
       " 0        17,000,000+       2018[1]   NaN  \n",
       " 1           11000000    2018[2][3]   NaN  \n",
       " 2            8100000       2018[4]   NaN  \n",
       " 3            7804683       2018[5]   NaN  \n",
       " 4            7650519       2018[6]   NaN  \n",
       " 5            7200000       2016[7]   NaN  \n",
       " 6            7090207      2018 [8]   NaN  \n",
       " 7            7000000       2017[9]   NaN  \n",
       " 8            6000000      2018[10]   NaN  \n",
       " 9            5245900      2016[11]   NaN  \n",
       " 10           4719148       2018[5]   NaN  \n",
       " 11           4652865      2018[12]   NaN  \n",
       " 12           4576436       2018[5]   NaN  \n",
       " 13           4500000     2018 [13]   NaN  \n",
       " 14           4335431       2018[5]   NaN  \n",
       " 15           4070000      2018[14]   NaN  \n",
       " 16           3900000  2018[15][16]   NaN  \n",
       " 17           3861162      2019[17]   NaN  \n",
       " 18           3694000      2016[11]   NaN  \n",
       " 19           3646585     2018 [18]   NaN  \n",
       " 20           3300000      2018[19]   NaN  \n",
       " 21           3098985      2016[20]   NaN  \n",
       " 22           3050000      2017[21]   NaN  \n",
       " 23           2893300      2016[11]   NaN  \n",
       " 24           2858336      2018[22]   NaN  \n",
       " 25           2760000      2018[23]   NaN  \n",
       " 26           2740000      2018[24]   NaN  \n",
       " 27           2661615      2018[25]   NaN  \n",
       " 28           2637567      2018[26]   NaN  \n",
       " 29        2,600,000+      2019[27]   NaN  \n",
       " 30           2478622      2016[28]   NaN  \n",
       " 31           2359300      2016[11]   NaN  \n",
       " 32           2190000      2018[29]   NaN  \n",
       " 33           2100000      2016[20]   NaN  \n",
       " 34           2053000      2016[30]   NaN  \n",
       " 35           2000000      2017[31]   NaN  \n",
       " 36           2111578      2018[32]   NaN  \n",
       " 37           1953133      2018[33]   NaN  \n",
       " 38           1875744      2018[34]   NaN  \n",
       " 39           1583260          2017   NaN  \n",
       " 40           1552481      2018[35]   NaN  \n",
       " 41           1500000      2017[36]   NaN  \n",
       " 42           1411276      2017[37]   NaN  \n",
       " 43           1400000      2016[38]   NaN  ]"
      ]
     },
     "execution_count": 3,
     "metadata": {},
     "output_type": "execute_result"
    }
   ],
   "source": [
    "data"
   ]
  },
  {
   "cell_type": "markdown",
   "metadata": {},
   "source": [
    "get the values in excel, this way we can rename the columns and use it, further read this file into pandas dataframe"
   ]
  },
  {
   "cell_type": "code",
   "execution_count": 4,
   "metadata": {},
   "outputs": [],
   "source": [
    "for monuments in data:\n",
    "    monuments.to_excel('mostvisted_places.xlsx', header= False,encoding='utf-16')\n",
    "    monuments= pd.read_excel('mostvisted_places.xlsx', \n",
    "                            usecols = [2,3,4],\n",
    "                            names =['Names', 'Location','Visitors'],\n",
    "                            header = None,\n",
    "                            skiprows = 1)"
   ]
  },
  {
   "cell_type": "markdown",
   "metadata": {},
   "source": [
    "Check what all columns are being pulled from the data in monument dataframe"
   ]
  },
  {
   "cell_type": "code",
   "execution_count": 5,
   "metadata": {},
   "outputs": [
    {
     "data": {
      "text/html": [
       "<div>\n",
       "<style scoped>\n",
       "    .dataframe tbody tr th:only-of-type {\n",
       "        vertical-align: middle;\n",
       "    }\n",
       "\n",
       "    .dataframe tbody tr th {\n",
       "        vertical-align: top;\n",
       "    }\n",
       "\n",
       "    .dataframe thead th {\n",
       "        text-align: right;\n",
       "    }\n",
       "</style>\n",
       "<table border=\"1\" class=\"dataframe\">\n",
       "  <thead>\n",
       "    <tr style=\"text-align: right;\">\n",
       "      <th></th>\n",
       "      <th>Names</th>\n",
       "      <th>Location</th>\n",
       "      <th>Visitors</th>\n",
       "    </tr>\n",
       "  </thead>\n",
       "  <tbody>\n",
       "    <tr>\n",
       "      <th>0</th>\n",
       "      <td>Forbidden City</td>\n",
       "      <td>Beijing</td>\n",
       "      <td>17,000,000+</td>\n",
       "    </tr>\n",
       "    <tr>\n",
       "      <th>1</th>\n",
       "      <td>St. Peter's Basilica</td>\n",
       "      <td>Vatican City</td>\n",
       "      <td>11000000</td>\n",
       "    </tr>\n",
       "    <tr>\n",
       "      <th>2</th>\n",
       "      <td>Palace of Versailles</td>\n",
       "      <td>Versailles</td>\n",
       "      <td>8100000</td>\n",
       "    </tr>\n",
       "    <tr>\n",
       "      <th>3</th>\n",
       "      <td>Lincoln Memorial</td>\n",
       "      <td>Washington, D.C.</td>\n",
       "      <td>7804683</td>\n",
       "    </tr>\n",
       "    <tr>\n",
       "      <th>4</th>\n",
       "      <td>Colosseum-Forum-Palatine Hill Circuit</td>\n",
       "      <td>Rome</td>\n",
       "      <td>7650519</td>\n",
       "    </tr>\n",
       "  </tbody>\n",
       "</table>\n",
       "</div>"
      ],
      "text/plain": [
       "                                   Names          Location     Visitors\n",
       "0                         Forbidden City           Beijing  17,000,000+\n",
       "1                   St. Peter's Basilica      Vatican City     11000000\n",
       "2                   Palace of Versailles        Versailles      8100000\n",
       "3                       Lincoln Memorial  Washington, D.C.      7804683\n",
       "4  Colosseum-Forum-Palatine Hill Circuit              Rome      7650519"
      ]
     },
     "execution_count": 5,
     "metadata": {},
     "output_type": "execute_result"
    }
   ],
   "source": [
    "monuments.head(5)"
   ]
  },
  {
   "cell_type": "markdown",
   "metadata": {},
   "source": [
    "We will be iterating through the monuments to get latitude,longitude and address information for each of the monument present in the file. Some of the names will cause errors and will not produce output based on the name provided. These will be populated by Nan values."
   ]
  },
  {
   "cell_type": "code",
   "execution_count": 6,
   "metadata": {},
   "outputs": [],
   "source": [
    "for index, row in monuments.iterrows():\n",
    "    try:\n",
    "        ##print(row['Names'])\n",
    "        info = geocode(str(row['Names']), provider= 'Nominatim',user_agent='myGeocoder')\n",
    "        monuments.loc[int(index), 'Address'] = info['address'].loc[0]\n",
    "        monuments.loc[int(index),'lon'] = info['geometry'].loc[0].x\n",
    "        monuments.loc[int(index),'lat'] = info['geometry'].loc[0].y\n",
    "    except TypeError:\n",
    "        pass"
   ]
  },
  {
   "cell_type": "code",
   "execution_count": 7,
   "metadata": {},
   "outputs": [
    {
     "data": {
      "text/html": [
       "<div>\n",
       "<style scoped>\n",
       "    .dataframe tbody tr th:only-of-type {\n",
       "        vertical-align: middle;\n",
       "    }\n",
       "\n",
       "    .dataframe tbody tr th {\n",
       "        vertical-align: top;\n",
       "    }\n",
       "\n",
       "    .dataframe thead th {\n",
       "        text-align: right;\n",
       "    }\n",
       "</style>\n",
       "<table border=\"1\" class=\"dataframe\">\n",
       "  <thead>\n",
       "    <tr style=\"text-align: right;\">\n",
       "      <th></th>\n",
       "      <th>Names</th>\n",
       "      <th>Location</th>\n",
       "      <th>Visitors</th>\n",
       "      <th>Address</th>\n",
       "      <th>lon</th>\n",
       "      <th>lat</th>\n",
       "    </tr>\n",
       "  </thead>\n",
       "  <tbody>\n",
       "    <tr>\n",
       "      <th>0</th>\n",
       "      <td>Forbidden City</td>\n",
       "      <td>Beijing</td>\n",
       "      <td>17,000,000+</td>\n",
       "      <td>故宫, 西华门大街, 西城区, 北京市, 100032, 中国</td>\n",
       "      <td>116.390769</td>\n",
       "      <td>39.917276</td>\n",
       "    </tr>\n",
       "    <tr>\n",
       "      <th>1</th>\n",
       "      <td>St. Peter's Basilica</td>\n",
       "      <td>Vatican City</td>\n",
       "      <td>11000000</td>\n",
       "      <td>Basilica Sancti Petri, Forum Sancti Petri, Cit...</td>\n",
       "      <td>12.453712</td>\n",
       "      <td>41.902157</td>\n",
       "    </tr>\n",
       "    <tr>\n",
       "      <th>2</th>\n",
       "      <td>Palace of Versailles</td>\n",
       "      <td>Versailles</td>\n",
       "      <td>8100000</td>\n",
       "      <td>Château de Versailles, Cour du Dauphin, Notre-...</td>\n",
       "      <td>2.120285</td>\n",
       "      <td>48.804425</td>\n",
       "    </tr>\n",
       "    <tr>\n",
       "      <th>3</th>\n",
       "      <td>Lincoln Memorial</td>\n",
       "      <td>Washington, D.C.</td>\n",
       "      <td>7804683</td>\n",
       "      <td>Lincoln Memorial, Lincoln Memorial Circle SW, ...</td>\n",
       "      <td>-77.050121</td>\n",
       "      <td>38.889323</td>\n",
       "    </tr>\n",
       "    <tr>\n",
       "      <th>4</th>\n",
       "      <td>Colosseum-Forum-Palatine Hill Circuit</td>\n",
       "      <td>Rome</td>\n",
       "      <td>7650519</td>\n",
       "      <td>NaN</td>\n",
       "      <td>NaN</td>\n",
       "      <td>NaN</td>\n",
       "    </tr>\n",
       "  </tbody>\n",
       "</table>\n",
       "</div>"
      ],
      "text/plain": [
       "                                   Names          Location     Visitors  \\\n",
       "0                         Forbidden City           Beijing  17,000,000+   \n",
       "1                   St. Peter's Basilica      Vatican City     11000000   \n",
       "2                   Palace of Versailles        Versailles      8100000   \n",
       "3                       Lincoln Memorial  Washington, D.C.      7804683   \n",
       "4  Colosseum-Forum-Palatine Hill Circuit              Rome      7650519   \n",
       "\n",
       "                                             Address         lon        lat  \n",
       "0                    故宫, 西华门大街, 西城区, 北京市, 100032, 中国  116.390769  39.917276  \n",
       "1  Basilica Sancti Petri, Forum Sancti Petri, Cit...   12.453712  41.902157  \n",
       "2  Château de Versailles, Cour du Dauphin, Notre-...    2.120285  48.804425  \n",
       "3  Lincoln Memorial, Lincoln Memorial Circle SW, ...  -77.050121  38.889323  \n",
       "4                                                NaN         NaN        NaN  "
      ]
     },
     "execution_count": 7,
     "metadata": {},
     "output_type": "execute_result"
    }
   ],
   "source": [
    "monuments.head(5)"
   ]
  },
  {
   "cell_type": "markdown",
   "metadata": {},
   "source": [
    "Removing the Names with Nan value, in this current files we only have 43 elements so we can go ahead and clean them. In the next step however I have deleted records with Nan values"
   ]
  },
  {
   "cell_type": "code",
   "execution_count": 8,
   "metadata": {},
   "outputs": [
    {
     "data": {
      "text/html": [
       "<div>\n",
       "<style scoped>\n",
       "    .dataframe tbody tr th:only-of-type {\n",
       "        vertical-align: middle;\n",
       "    }\n",
       "\n",
       "    .dataframe tbody tr th {\n",
       "        vertical-align: top;\n",
       "    }\n",
       "\n",
       "    .dataframe thead th {\n",
       "        text-align: right;\n",
       "    }\n",
       "</style>\n",
       "<table border=\"1\" class=\"dataframe\">\n",
       "  <thead>\n",
       "    <tr style=\"text-align: right;\">\n",
       "      <th></th>\n",
       "      <th>Names</th>\n",
       "      <th>Location</th>\n",
       "      <th>Visitors</th>\n",
       "      <th>Address</th>\n",
       "      <th>lon</th>\n",
       "      <th>lat</th>\n",
       "    </tr>\n",
       "  </thead>\n",
       "  <tbody>\n",
       "    <tr>\n",
       "      <th>0</th>\n",
       "      <td>Forbidden City</td>\n",
       "      <td>Beijing</td>\n",
       "      <td>17,000,000+</td>\n",
       "      <td>故宫, 西华门大街, 西城区, 北京市, 100032, 中国</td>\n",
       "      <td>116.390769</td>\n",
       "      <td>39.917276</td>\n",
       "    </tr>\n",
       "    <tr>\n",
       "      <th>1</th>\n",
       "      <td>St. Peter's Basilica</td>\n",
       "      <td>Vatican City</td>\n",
       "      <td>11000000</td>\n",
       "      <td>Basilica Sancti Petri, Forum Sancti Petri, Cit...</td>\n",
       "      <td>12.453712</td>\n",
       "      <td>41.902157</td>\n",
       "    </tr>\n",
       "    <tr>\n",
       "      <th>2</th>\n",
       "      <td>Palace of Versailles</td>\n",
       "      <td>Versailles</td>\n",
       "      <td>8100000</td>\n",
       "      <td>Château de Versailles, Cour du Dauphin, Notre-...</td>\n",
       "      <td>2.120285</td>\n",
       "      <td>48.804425</td>\n",
       "    </tr>\n",
       "    <tr>\n",
       "      <th>3</th>\n",
       "      <td>Lincoln Memorial</td>\n",
       "      <td>Washington, D.C.</td>\n",
       "      <td>7804683</td>\n",
       "      <td>Lincoln Memorial, Lincoln Memorial Circle SW, ...</td>\n",
       "      <td>-77.050121</td>\n",
       "      <td>38.889323</td>\n",
       "    </tr>\n",
       "    <tr>\n",
       "      <th>5</th>\n",
       "      <td>Parthenon</td>\n",
       "      <td>Athens</td>\n",
       "      <td>7200000</td>\n",
       "      <td>Παρθενώνας, Περίπατος Ακρόπολης (Νότια κλιτύς)...</td>\n",
       "      <td>23.726650</td>\n",
       "      <td>37.971514</td>\n",
       "    </tr>\n",
       "  </tbody>\n",
       "</table>\n",
       "</div>"
      ],
      "text/plain": [
       "                  Names          Location     Visitors  \\\n",
       "0        Forbidden City           Beijing  17,000,000+   \n",
       "1  St. Peter's Basilica      Vatican City     11000000   \n",
       "2  Palace of Versailles        Versailles      8100000   \n",
       "3      Lincoln Memorial  Washington, D.C.      7804683   \n",
       "5             Parthenon            Athens      7200000   \n",
       "\n",
       "                                             Address         lon        lat  \n",
       "0                    故宫, 西华门大街, 西城区, 北京市, 100032, 中国  116.390769  39.917276  \n",
       "1  Basilica Sancti Petri, Forum Sancti Petri, Cit...   12.453712  41.902157  \n",
       "2  Château de Versailles, Cour du Dauphin, Notre-...    2.120285  48.804425  \n",
       "3  Lincoln Memorial, Lincoln Memorial Circle SW, ...  -77.050121  38.889323  \n",
       "5  Παρθενώνας, Περίπατος Ακρόπολης (Νότια κλιτύς)...   23.726650  37.971514  "
      ]
     },
     "execution_count": 8,
     "metadata": {},
     "output_type": "execute_result"
    }
   ],
   "source": [
    "(monuments.dropna()).head(5)"
   ]
  },
  {
   "cell_type": "code",
   "execution_count": 9,
   "metadata": {},
   "outputs": [],
   "source": [
    "(monuments.dropna()).to_excel('linkofMonumnents.xlsx')"
   ]
  },
  {
   "cell_type": "markdown",
   "metadata": {},
   "source": [
    "next steps are to pull this values from excel and plot it on the maps.\""
   ]
  },
  {
   "cell_type": "code",
   "execution_count": 10,
   "metadata": {},
   "outputs": [],
   "source": [
    "import folium\n",
    "import pandas as pd"
   ]
  },
  {
   "cell_type": "code",
   "execution_count": 11,
   "metadata": {},
   "outputs": [],
   "source": [
    "dataset = pd.read_excel('linkofMonumnents.xlsx')"
   ]
  },
  {
   "cell_type": "markdown",
   "metadata": {},
   "source": [
    "Reading the file and checking which columns are needed. In this example we will be deleting the unnnamed: 0 column since this column is not providing us with enough value."
   ]
  },
  {
   "cell_type": "code",
   "execution_count": 12,
   "metadata": {},
   "outputs": [
    {
     "data": {
      "text/html": [
       "<div>\n",
       "<style scoped>\n",
       "    .dataframe tbody tr th:only-of-type {\n",
       "        vertical-align: middle;\n",
       "    }\n",
       "\n",
       "    .dataframe tbody tr th {\n",
       "        vertical-align: top;\n",
       "    }\n",
       "\n",
       "    .dataframe thead th {\n",
       "        text-align: right;\n",
       "    }\n",
       "</style>\n",
       "<table border=\"1\" class=\"dataframe\">\n",
       "  <thead>\n",
       "    <tr style=\"text-align: right;\">\n",
       "      <th></th>\n",
       "      <th>Unnamed: 0</th>\n",
       "      <th>Names</th>\n",
       "      <th>Location</th>\n",
       "      <th>Visitors</th>\n",
       "      <th>Address</th>\n",
       "      <th>lon</th>\n",
       "      <th>lat</th>\n",
       "    </tr>\n",
       "  </thead>\n",
       "  <tbody>\n",
       "    <tr>\n",
       "      <th>0</th>\n",
       "      <td>0</td>\n",
       "      <td>Forbidden City</td>\n",
       "      <td>Beijing</td>\n",
       "      <td>17,000,000+</td>\n",
       "      <td>故宫, 西华门大街, 西城区, 北京市, 100032, 中国</td>\n",
       "      <td>116.390769</td>\n",
       "      <td>39.917276</td>\n",
       "    </tr>\n",
       "    <tr>\n",
       "      <th>1</th>\n",
       "      <td>1</td>\n",
       "      <td>St. Peter's Basilica</td>\n",
       "      <td>Vatican City</td>\n",
       "      <td>11000000</td>\n",
       "      <td>Basilica Sancti Petri, Forum Sancti Petri, Cit...</td>\n",
       "      <td>12.453712</td>\n",
       "      <td>41.902157</td>\n",
       "    </tr>\n",
       "    <tr>\n",
       "      <th>2</th>\n",
       "      <td>2</td>\n",
       "      <td>Palace of Versailles</td>\n",
       "      <td>Versailles</td>\n",
       "      <td>8100000</td>\n",
       "      <td>Château de Versailles, Cour du Dauphin, Notre-...</td>\n",
       "      <td>2.120285</td>\n",
       "      <td>48.804425</td>\n",
       "    </tr>\n",
       "    <tr>\n",
       "      <th>3</th>\n",
       "      <td>3</td>\n",
       "      <td>Lincoln Memorial</td>\n",
       "      <td>Washington, D.C.</td>\n",
       "      <td>7804683</td>\n",
       "      <td>Lincoln Memorial, Lincoln Memorial Circle SW, ...</td>\n",
       "      <td>-77.050121</td>\n",
       "      <td>38.889323</td>\n",
       "    </tr>\n",
       "    <tr>\n",
       "      <th>4</th>\n",
       "      <td>5</td>\n",
       "      <td>Parthenon</td>\n",
       "      <td>Athens</td>\n",
       "      <td>7200000</td>\n",
       "      <td>Παρθενώνας, Περίπατος Ακρόπολης (Νότια κλιτύς)...</td>\n",
       "      <td>23.726650</td>\n",
       "      <td>37.971514</td>\n",
       "    </tr>\n",
       "  </tbody>\n",
       "</table>\n",
       "</div>"
      ],
      "text/plain": [
       "   Unnamed: 0                 Names          Location     Visitors  \\\n",
       "0           0        Forbidden City           Beijing  17,000,000+   \n",
       "1           1  St. Peter's Basilica      Vatican City     11000000   \n",
       "2           2  Palace of Versailles        Versailles      8100000   \n",
       "3           3      Lincoln Memorial  Washington, D.C.      7804683   \n",
       "4           5             Parthenon            Athens      7200000   \n",
       "\n",
       "                                             Address         lon        lat  \n",
       "0                    故宫, 西华门大街, 西城区, 北京市, 100032, 中国  116.390769  39.917276  \n",
       "1  Basilica Sancti Petri, Forum Sancti Petri, Cit...   12.453712  41.902157  \n",
       "2  Château de Versailles, Cour du Dauphin, Notre-...    2.120285  48.804425  \n",
       "3  Lincoln Memorial, Lincoln Memorial Circle SW, ...  -77.050121  38.889323  \n",
       "4  Παρθενώνας, Περίπατος Ακρόπολης (Νότια κλιτύς)...   23.726650  37.971514  "
      ]
     },
     "execution_count": 12,
     "metadata": {},
     "output_type": "execute_result"
    }
   ],
   "source": [
    "dataset.head(5)"
   ]
  },
  {
   "cell_type": "code",
   "execution_count": 13,
   "metadata": {},
   "outputs": [],
   "source": [
    "del dataset['Unnamed: 0']"
   ]
  },
  {
   "cell_type": "code",
   "execution_count": 14,
   "metadata": {},
   "outputs": [
    {
     "data": {
      "text/html": [
       "<div>\n",
       "<style scoped>\n",
       "    .dataframe tbody tr th:only-of-type {\n",
       "        vertical-align: middle;\n",
       "    }\n",
       "\n",
       "    .dataframe tbody tr th {\n",
       "        vertical-align: top;\n",
       "    }\n",
       "\n",
       "    .dataframe thead th {\n",
       "        text-align: right;\n",
       "    }\n",
       "</style>\n",
       "<table border=\"1\" class=\"dataframe\">\n",
       "  <thead>\n",
       "    <tr style=\"text-align: right;\">\n",
       "      <th></th>\n",
       "      <th>Names</th>\n",
       "      <th>Location</th>\n",
       "      <th>Visitors</th>\n",
       "      <th>Address</th>\n",
       "      <th>lon</th>\n",
       "      <th>lat</th>\n",
       "    </tr>\n",
       "  </thead>\n",
       "  <tbody>\n",
       "    <tr>\n",
       "      <th>0</th>\n",
       "      <td>Forbidden City</td>\n",
       "      <td>Beijing</td>\n",
       "      <td>17,000,000+</td>\n",
       "      <td>故宫, 西华门大街, 西城区, 北京市, 100032, 中国</td>\n",
       "      <td>116.390769</td>\n",
       "      <td>39.917276</td>\n",
       "    </tr>\n",
       "    <tr>\n",
       "      <th>1</th>\n",
       "      <td>St. Peter's Basilica</td>\n",
       "      <td>Vatican City</td>\n",
       "      <td>11000000</td>\n",
       "      <td>Basilica Sancti Petri, Forum Sancti Petri, Cit...</td>\n",
       "      <td>12.453712</td>\n",
       "      <td>41.902157</td>\n",
       "    </tr>\n",
       "    <tr>\n",
       "      <th>2</th>\n",
       "      <td>Palace of Versailles</td>\n",
       "      <td>Versailles</td>\n",
       "      <td>8100000</td>\n",
       "      <td>Château de Versailles, Cour du Dauphin, Notre-...</td>\n",
       "      <td>2.120285</td>\n",
       "      <td>48.804425</td>\n",
       "    </tr>\n",
       "    <tr>\n",
       "      <th>3</th>\n",
       "      <td>Lincoln Memorial</td>\n",
       "      <td>Washington, D.C.</td>\n",
       "      <td>7804683</td>\n",
       "      <td>Lincoln Memorial, Lincoln Memorial Circle SW, ...</td>\n",
       "      <td>-77.050121</td>\n",
       "      <td>38.889323</td>\n",
       "    </tr>\n",
       "    <tr>\n",
       "      <th>4</th>\n",
       "      <td>Parthenon</td>\n",
       "      <td>Athens</td>\n",
       "      <td>7200000</td>\n",
       "      <td>Παρθενώνας, Περίπατος Ακρόπολης (Νότια κλιτύς)...</td>\n",
       "      <td>23.726650</td>\n",
       "      <td>37.971514</td>\n",
       "    </tr>\n",
       "  </tbody>\n",
       "</table>\n",
       "</div>"
      ],
      "text/plain": [
       "                  Names          Location     Visitors  \\\n",
       "0        Forbidden City           Beijing  17,000,000+   \n",
       "1  St. Peter's Basilica      Vatican City     11000000   \n",
       "2  Palace of Versailles        Versailles      8100000   \n",
       "3      Lincoln Memorial  Washington, D.C.      7804683   \n",
       "4             Parthenon            Athens      7200000   \n",
       "\n",
       "                                             Address         lon        lat  \n",
       "0                    故宫, 西华门大街, 西城区, 北京市, 100032, 中国  116.390769  39.917276  \n",
       "1  Basilica Sancti Petri, Forum Sancti Petri, Cit...   12.453712  41.902157  \n",
       "2  Château de Versailles, Cour du Dauphin, Notre-...    2.120285  48.804425  \n",
       "3  Lincoln Memorial, Lincoln Memorial Circle SW, ...  -77.050121  38.889323  \n",
       "4  Παρθενώνας, Περίπατος Ακρόπολης (Νότια κλιτύς)...   23.726650  37.971514  "
      ]
     },
     "execution_count": 14,
     "metadata": {},
     "output_type": "execute_result"
    }
   ],
   "source": [
    "dataset.head(5)"
   ]
  },
  {
   "cell_type": "markdown",
   "metadata": {},
   "source": [
    "Selecting the type of map on which we want to display the data and the zoom level allowed on that map."
   ]
  },
  {
   "cell_type": "code",
   "execution_count": 15,
   "metadata": {},
   "outputs": [],
   "source": [
    "m= folium.Map(title='openstreetman',zoom_starts = 2)"
   ]
  },
  {
   "cell_type": "markdown",
   "metadata": {},
   "source": [
    "Iterate through the dataset and plot each lat and lon values on the map and finally save it to html file. To see the results just open the html file."
   ]
  },
  {
   "cell_type": "code",
   "execution_count": 16,
   "metadata": {},
   "outputs": [],
   "source": [
    "for index, row in dataset.iterrows():\n",
    "    folium.Marker([row['lat'], row['lon']], popup = row['Names']+'</br> total number of visitors:'+row['Visitors'] ).add_to(m)\n",
    "    m.save('Map_for_monuments.html')"
   ]
  },
  {
   "cell_type": "code",
   "execution_count": null,
   "metadata": {},
   "outputs": [],
   "source": []
  }
 ],
 "metadata": {
  "kernelspec": {
   "display_name": "Python 3",
   "language": "python",
   "name": "python3"
  },
  "language_info": {
   "codemirror_mode": {
    "name": "ipython",
    "version": 3
   },
   "file_extension": ".py",
   "mimetype": "text/x-python",
   "name": "python",
   "nbconvert_exporter": "python",
   "pygments_lexer": "ipython3",
   "version": "3.8.5"
  }
 },
 "nbformat": 4,
 "nbformat_minor": 4
}
